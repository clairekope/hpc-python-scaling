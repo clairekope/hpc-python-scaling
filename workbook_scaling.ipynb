{
 "cells": [
  {
   "cell_type": "markdown",
   "metadata": {},
   "source": [
    "*Your Name*\n",
    "\n",
    "*Collaborator's Names*"
   ]
  },
  {
   "cell_type": "markdown",
   "metadata": {},
   "source": [
    "# Scaling Woo\n",
    "\n",
    "For this workbook, you'll need code you used last week to search for prime numbers using `multiprocessing.Pool`. **Copy the necessary code into the empty cell below.** \n",
    "\n",
    "You might even wrap the parallelized search in a function whose arguments are the start and end of the search range as well as the number of processes. This function can then return the list of primes. Encapsulating the prime search in this way will simplify the code you write for this workbook."
   ]
  },
  {
   "cell_type": "code",
   "execution_count": 1,
   "metadata": {},
   "outputs": [],
   "source": [
    "import multiprocessing\n",
    "import itertools\n",
    "import math\n",
    "\n",
    "def check_prime(n):\n",
    "    if n % 2 == 0:\n",
    "        return False\n",
    "    for i in range(3, int(math.sqrt(n)) + 1, 2):\n",
    "        if n % i == 0:\n",
    "            return False\n",
    "    return True\n",
    "\n",
    "def prime_search(start, end, nprocs = 4):\n",
    "    number_range = list(range(start, end))\n",
    "\n",
    "    with multiprocessing.Pool(processes = nprocs) as p:\n",
    "        are_primes = p.map(check_prime, number_range)\n",
    "\n",
    "    primes = list(itertools.compress(number_range, are_primes))\n",
    "\n",
    "    return primes"
   ]
  },
  {
   "cell_type": "markdown",
   "metadata": {},
   "source": [
    "## Strong Scaling"
   ]
  },
  {
   "cell_type": "markdown",
   "metadata": {},
   "source": [
    "Strong scaling?\n",
    "\n",
    "Last week, we searched for prime numbers between 100,000,000 and 101,000,000. For this exercise, let's search that same range. We will **adjust the number of processes from 1 to 8.**\n",
    "\n",
    "---\n",
    "### Exercises\n",
    "\n",
    "1. By default, `Pool.map` tries to divide the amount of work as evenly as possible. That is, each process should get roughly the same number of values on which to run our function, `check_primes`. As you adjust the number of processes, roughly how many numbers will each process have to check?"
   ]
  },
  {
   "cell_type": "code",
   "execution_count": 2,
   "metadata": {},
   "outputs": [
    {
     "name": "stdout",
     "output_type": "stream",
     "text": [
      "1000000\n",
      "500000\n",
      "333333\n",
      "250000\n",
      "200000\n",
      "166666\n",
      "142857\n",
      "125000\n"
     ]
    }
   ],
   "source": [
    "for i in range(1,9):\n",
    "    print(int((101_000_000-100_000_000)/i))"
   ]
  },
  {
   "cell_type": "markdown",
   "metadata": {},
   "source": [
    "\n",
    "2. Time how long the prime number search takes as you adjust the number of processes used. You are welcome to use the `%%timeit` magic command or the `time.perf_counter()` function that we covered in the first workbook. Using `time.perf_counter()` will help you automate the timing, though when using this function you may wish to find an *average* time by running the code several times with the same number of processes."
   ]
  },
  {
   "cell_type": "code",
   "execution_count": 3,
   "metadata": {},
   "outputs": [],
   "source": [
    "from time import perf_counter\n",
    "import numpy as np"
   ]
  },
  {
   "cell_type": "code",
   "execution_count": 5,
   "metadata": {},
   "outputs": [],
   "source": [
    "n_measurements = 10\n",
    "all_measurements = np.empty(8)\n",
    "\n",
    "for nproc in range(1,9):\n",
    "\n",
    "    timings = np.empty(n_measurements)\n",
    "\n",
    "    for i in range(n_measurements):\n",
    "        start = perf_counter()\n",
    "\n",
    "        prime_search(100_000_000, 101_000_000, nproc)\n",
    "        \n",
    "        end = perf_counter()\n",
    "        timings[i] = end - start\n",
    "\n",
    "    all_measurements[nproc-1] = timings.mean()"
   ]
  },
  {
   "cell_type": "markdown",
   "metadata": {},
   "source": [
    "3. Take your timing measurements from above and use them to plot the amount of speedup we get as we change the number of processes. Remember that speedup is the time for one process divided by the time for $N$ processes. For perfect strong scaling, we should get $N$ speedup for $N$ processes; a one-to-one diagonal. Add this reference line to your plot."
   ]
  },
  {
   "cell_type": "code",
   "execution_count": 13,
   "metadata": {},
   "outputs": [
    {
     "data": {
      "text/plain": [
       "[<matplotlib.lines.Line2D at 0x7f652f5dd110>]"
      ]
     },
     "execution_count": 13,
     "metadata": {},
     "output_type": "execute_result"
    },
    {
     "data": {
      "image/png": "[encoded data removed]",
      "text/plain": [
       "<Figure size 640x480 with 1 Axes>"
      ]
     },
     "metadata": {},
     "output_type": "display_data"
    }
   ],
   "source": [
    "import matplotlib.pyplot as plt\n",
    "\n",
    "procs = np.arange(1,9)\n",
    "\n",
    "plt.plot(procs, all_measurements[0]/all_measurements)\n",
    "plt.plot(procs, procs)"
   ]
  },
  {
   "cell_type": "code",
   "execution_count": null,
   "metadata": {},
   "outputs": [],
   "source": []
  }
 ],
 "metadata": {
  "kernelspec": {
   "display_name": "hpc-python",
   "language": "python",
   "name": "python3"
  },
  "language_info": {
   "codemirror_mode": {
    "name": "ipython",
    "version": 3
   },
   "file_extension": ".py",
   "mimetype": "text/x-python",
   "name": "python",
   "nbconvert_exporter": "python",
   "pygments_lexer": "ipython3",
   "version": "3.11.5"
  },
  "orig_nbformat": 4
 },
 "nbformat": 4,
 "nbformat_minor": 2
}
